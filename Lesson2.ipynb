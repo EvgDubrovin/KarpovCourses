{
 "cells": [
  {
   "cell_type": "markdown",
   "metadata": {},
   "source": [
    "### Work with pandas"
   ]
  },
  {
   "cell_type": "markdown",
   "metadata": {},
   "source": [
    "We have a dataset with some online courses subscriptions. Let's do some aggregate functions and data saving."
   ]
  },
  {
   "cell_type": "code",
   "execution_count": 1,
   "metadata": {},
   "outputs": [],
   "source": [
    "import pandas as pd\n",
    "from datetime import date # библиотека для обработки времени и даты"
   ]
  },
  {
   "cell_type": "code",
   "execution_count": 2,
   "metadata": {
    "scrolled": true
   },
   "outputs": [],
   "source": [
    "df = pd.read_csv(r'C:\\Users\\Dubreee\\Python\\KarpovCourses_Demo\\Lesson_2\\lesson_1_data.csv', encoding='windows-1251', sep=\";\")"
   ]
  },
  {
   "cell_type": "code",
   "execution_count": 3,
   "metadata": {},
   "outputs": [
    {
     "data": {
      "text/html": [
       "<div>\n",
       "<style scoped>\n",
       "    .dataframe tbody tr th:only-of-type {\n",
       "        vertical-align: middle;\n",
       "    }\n",
       "\n",
       "    .dataframe tbody tr th {\n",
       "        vertical-align: top;\n",
       "    }\n",
       "\n",
       "    .dataframe thead th {\n",
       "        text-align: right;\n",
       "    }\n",
       "</style>\n",
       "<table border=\"1\" class=\"dataframe\">\n",
       "  <thead>\n",
       "    <tr style=\"text-align: right;\">\n",
       "      <th></th>\n",
       "      <th>Номер</th>\n",
       "      <th>Дата создания</th>\n",
       "      <th>Дата оплаты</th>\n",
       "      <th>Title</th>\n",
       "      <th>Статус</th>\n",
       "      <th>Заработано</th>\n",
       "      <th>Город</th>\n",
       "      <th>Платежная система</th>\n",
       "    </tr>\n",
       "  </thead>\n",
       "  <tbody>\n",
       "    <tr>\n",
       "      <th>287</th>\n",
       "      <td>1064720</td>\n",
       "      <td>30.12.2019 9:42</td>\n",
       "      <td>30.12.2019 12:49</td>\n",
       "      <td>Подписка «ОНЛАЙН ДИЕТОЛОГ» с ежемесячным автос...</td>\n",
       "      <td>Завершен</td>\n",
       "      <td>2935.44</td>\n",
       "      <td>Самарская область</td>\n",
       "      <td>Яндекс.Касса</td>\n",
       "    </tr>\n",
       "    <tr>\n",
       "      <th>288</th>\n",
       "      <td>1064724</td>\n",
       "      <td>30.12.2019 11:32</td>\n",
       "      <td>NaN</td>\n",
       "      <td>Курс обучения «Консультант»</td>\n",
       "      <td>Отменен</td>\n",
       "      <td>0.00</td>\n",
       "      <td>NaN</td>\n",
       "      <td>NaN</td>\n",
       "    </tr>\n",
       "    <tr>\n",
       "      <th>289</th>\n",
       "      <td>1064775</td>\n",
       "      <td>31.12.2019 2:17</td>\n",
       "      <td>31.12.2019 2:22</td>\n",
       "      <td>Курс обучения «Консультант»</td>\n",
       "      <td>Завершен</td>\n",
       "      <td>7423.92</td>\n",
       "      <td>NaN</td>\n",
       "      <td>Сбербанк эквайринг,Бонусный счет</td>\n",
       "    </tr>\n",
       "    <tr>\n",
       "      <th>290</th>\n",
       "      <td>1064793</td>\n",
       "      <td>31.12.2019 16:40</td>\n",
       "      <td>01.01.2020 14:29</td>\n",
       "      <td>Подписка «ОНЛАЙН ДИЕТОЛОГ» с ежемесячным автос...</td>\n",
       "      <td>Завершен</td>\n",
       "      <td>2935.44</td>\n",
       "      <td>Республика Карелия</td>\n",
       "      <td>Яндекс.Касса</td>\n",
       "    </tr>\n",
       "    <tr>\n",
       "      <th>291</th>\n",
       "      <td>1064796</td>\n",
       "      <td>31.12.2019 17:29</td>\n",
       "      <td>31.12.2019 17:32</td>\n",
       "      <td>Курс от Школы Диетологов. Повышение квалификац...</td>\n",
       "      <td>Завершен</td>\n",
       "      <td>9898.56</td>\n",
       "      <td>Уфа</td>\n",
       "      <td>Сбербанк эквайринг,Бонусный счет</td>\n",
       "    </tr>\n",
       "  </tbody>\n",
       "</table>\n",
       "</div>"
      ],
      "text/plain": [
       "       Номер     Дата создания       Дата оплаты  \\\n",
       "287  1064720   30.12.2019 9:42  30.12.2019 12:49   \n",
       "288  1064724  30.12.2019 11:32               NaN   \n",
       "289  1064775   31.12.2019 2:17   31.12.2019 2:22   \n",
       "290  1064793  31.12.2019 16:40  01.01.2020 14:29   \n",
       "291  1064796  31.12.2019 17:29  31.12.2019 17:32   \n",
       "\n",
       "                                                 Title    Статус  Заработано  \\\n",
       "287  Подписка «ОНЛАЙН ДИЕТОЛОГ» с ежемесячным автос...  Завершен     2935.44   \n",
       "288                        Курс обучения «Консультант»   Отменен        0.00   \n",
       "289                        Курс обучения «Консультант»  Завершен     7423.92   \n",
       "290  Подписка «ОНЛАЙН ДИЕТОЛОГ» с ежемесячным автос...  Завершен     2935.44   \n",
       "291  Курс от Школы Диетологов. Повышение квалификац...  Завершен     9898.56   \n",
       "\n",
       "                  Город                 Платежная система  \n",
       "287   Самарская область                      Яндекс.Касса  \n",
       "288                 NaN                               NaN  \n",
       "289                 NaN  Сбербанк эквайринг,Бонусный счет  \n",
       "290  Республика Карелия                      Яндекс.Касса  \n",
       "291                 Уфа  Сбербанк эквайринг,Бонусный счет  "
      ]
     },
     "execution_count": 3,
     "metadata": {},
     "output_type": "execute_result"
    }
   ],
   "source": [
    "# Последние 5 строк датафрейма\n",
    "df.tail()"
   ]
  },
  {
   "cell_type": "code",
   "execution_count": 4,
   "metadata": {},
   "outputs": [
    {
     "data": {
      "text/plain": [
       "(292, 8)"
      ]
     },
     "execution_count": 4,
     "metadata": {},
     "output_type": "execute_result"
    }
   ],
   "source": [
    "df.shape"
   ]
  },
  {
   "cell_type": "code",
   "execution_count": 5,
   "metadata": {},
   "outputs": [
    {
     "data": {
      "text/plain": [
       "Номер                  int64\n",
       "Дата создания         object\n",
       "Дата оплаты           object\n",
       "Title                 object\n",
       "Статус                object\n",
       "Заработано           float64\n",
       "Город                 object\n",
       "Платежная система     object\n",
       "dtype: object"
      ]
     },
     "execution_count": 5,
     "metadata": {},
     "output_type": "execute_result"
    }
   ],
   "source": [
    "df.dtypes"
   ]
  },
  {
   "cell_type": "code",
   "execution_count": 6,
   "metadata": {},
   "outputs": [
    {
     "data": {
      "text/html": [
       "<div>\n",
       "<style scoped>\n",
       "    .dataframe tbody tr th:only-of-type {\n",
       "        vertical-align: middle;\n",
       "    }\n",
       "\n",
       "    .dataframe tbody tr th {\n",
       "        vertical-align: top;\n",
       "    }\n",
       "\n",
       "    .dataframe thead th {\n",
       "        text-align: right;\n",
       "    }\n",
       "</style>\n",
       "<table border=\"1\" class=\"dataframe\">\n",
       "  <thead>\n",
       "    <tr style=\"text-align: right;\">\n",
       "      <th></th>\n",
       "      <th>Номер</th>\n",
       "      <th>Заработано</th>\n",
       "    </tr>\n",
       "  </thead>\n",
       "  <tbody>\n",
       "    <tr>\n",
       "      <th>count</th>\n",
       "      <td>2.920000e+02</td>\n",
       "      <td>292.000000</td>\n",
       "    </tr>\n",
       "    <tr>\n",
       "      <th>mean</th>\n",
       "      <td>1.063745e+06</td>\n",
       "      <td>3397.615034</td>\n",
       "    </tr>\n",
       "    <tr>\n",
       "      <th>std</th>\n",
       "      <td>4.438688e+02</td>\n",
       "      <td>5771.572829</td>\n",
       "    </tr>\n",
       "    <tr>\n",
       "      <th>min</th>\n",
       "      <td>1.062823e+06</td>\n",
       "      <td>0.000000</td>\n",
       "    </tr>\n",
       "    <tr>\n",
       "      <th>25%</th>\n",
       "      <td>1.063608e+06</td>\n",
       "      <td>0.000000</td>\n",
       "    </tr>\n",
       "    <tr>\n",
       "      <th>50%</th>\n",
       "      <td>1.063698e+06</td>\n",
       "      <td>2935.440000</td>\n",
       "    </tr>\n",
       "    <tr>\n",
       "      <th>75%</th>\n",
       "      <td>1.063807e+06</td>\n",
       "      <td>2935.440000</td>\n",
       "    </tr>\n",
       "    <tr>\n",
       "      <th>max</th>\n",
       "      <td>1.064796e+06</td>\n",
       "      <td>42750.000000</td>\n",
       "    </tr>\n",
       "  </tbody>\n",
       "</table>\n",
       "</div>"
      ],
      "text/plain": [
       "              Номер    Заработано\n",
       "count  2.920000e+02    292.000000\n",
       "mean   1.063745e+06   3397.615034\n",
       "std    4.438688e+02   5771.572829\n",
       "min    1.062823e+06      0.000000\n",
       "25%    1.063608e+06      0.000000\n",
       "50%    1.063698e+06   2935.440000\n",
       "75%    1.063807e+06   2935.440000\n",
       "max    1.064796e+06  42750.000000"
      ]
     },
     "execution_count": 6,
     "metadata": {},
     "output_type": "execute_result"
    }
   ],
   "source": [
    "# Статистики по числовым данным в датафрейме\n",
    "df.describe()"
   ]
  },
  {
   "cell_type": "code",
   "execution_count": 7,
   "metadata": {},
   "outputs": [
    {
     "data": {
      "text/plain": [
       "Index(['Номер', 'Дата создания', 'Дата оплаты', 'Title', 'Статус',\n",
       "       'Заработано', 'Город', 'Платежная система'],\n",
       "      dtype='object')"
      ]
     },
     "execution_count": 7,
     "metadata": {},
     "output_type": "execute_result"
    }
   ],
   "source": [
    "# Названия столбцов\n",
    "df.columns"
   ]
  },
  {
   "cell_type": "code",
   "execution_count": 8,
   "metadata": {},
   "outputs": [],
   "source": [
    "# Приведем все названия к одному виду\n",
    "df = df.rename(columns={'Номер' : 'number', \n",
    "          'Дата создания' : 'create_date', \n",
    "          'Дата оплаты' : 'payment_date', \n",
    "          'Title' : 'title', \n",
    "          'Статус' : 'status', \n",
    "          'Заработано' : 'earnings', \n",
    "          'Город' : 'city', \n",
    "          'Платежная система' : 'payment_system'})"
   ]
  },
  {
   "cell_type": "code",
   "execution_count": 9,
   "metadata": {},
   "outputs": [
    {
     "data": {
      "text/html": [
       "<div>\n",
       "<style scoped>\n",
       "    .dataframe tbody tr th:only-of-type {\n",
       "        vertical-align: middle;\n",
       "    }\n",
       "\n",
       "    .dataframe tbody tr th {\n",
       "        vertical-align: top;\n",
       "    }\n",
       "\n",
       "    .dataframe thead th {\n",
       "        text-align: right;\n",
       "    }\n",
       "</style>\n",
       "<table border=\"1\" class=\"dataframe\">\n",
       "  <thead>\n",
       "    <tr style=\"text-align: right;\">\n",
       "      <th></th>\n",
       "      <th>number</th>\n",
       "      <th>create_date</th>\n",
       "      <th>payment_date</th>\n",
       "      <th>title</th>\n",
       "      <th>status</th>\n",
       "      <th>earnings</th>\n",
       "      <th>city</th>\n",
       "      <th>payment_system</th>\n",
       "    </tr>\n",
       "  </thead>\n",
       "  <tbody>\n",
       "    <tr>\n",
       "      <th>0</th>\n",
       "      <td>1062823</td>\n",
       "      <td>01.12.2019 10:50</td>\n",
       "      <td>01.12.2019 10:52</td>\n",
       "      <td>Курс обучения «Эксперт»</td>\n",
       "      <td>Завершен</td>\n",
       "      <td>29597.5</td>\n",
       "      <td>Чита</td>\n",
       "      <td>Сбербанк эквайринг</td>\n",
       "    </tr>\n",
       "    <tr>\n",
       "      <th>1</th>\n",
       "      <td>1062855</td>\n",
       "      <td>01.12.2019 20:53</td>\n",
       "      <td>01.12.2019 21:27</td>\n",
       "      <td>Курс обучения «Эксперт»</td>\n",
       "      <td>Завершен</td>\n",
       "      <td>17450.3</td>\n",
       "      <td>Краснодар</td>\n",
       "      <td>Яндекс.Касса</td>\n",
       "    </tr>\n",
       "    <tr>\n",
       "      <th>2</th>\n",
       "      <td>1062856</td>\n",
       "      <td>01.12.2019 21:43</td>\n",
       "      <td>NaN</td>\n",
       "      <td>Курс обучения «Специалист»</td>\n",
       "      <td>Отменен</td>\n",
       "      <td>0.0</td>\n",
       "      <td>NaN</td>\n",
       "      <td>NaN</td>\n",
       "    </tr>\n",
       "    <tr>\n",
       "      <th>3</th>\n",
       "      <td>1062880</td>\n",
       "      <td>03.12.2019 0:18</td>\n",
       "      <td>NaN</td>\n",
       "      <td>Курс обучения «Консультант»</td>\n",
       "      <td>Отменен</td>\n",
       "      <td>0.0</td>\n",
       "      <td>г.Москва и Московская область</td>\n",
       "      <td>NaN</td>\n",
       "    </tr>\n",
       "    <tr>\n",
       "      <th>4</th>\n",
       "      <td>1062899</td>\n",
       "      <td>03.12.2019 21:43</td>\n",
       "      <td>NaN</td>\n",
       "      <td>Курс обучения «Эксперт»</td>\n",
       "      <td>Отменен</td>\n",
       "      <td>0.0</td>\n",
       "      <td>г.Москва и Московская область</td>\n",
       "      <td>NaN</td>\n",
       "    </tr>\n",
       "  </tbody>\n",
       "</table>\n",
       "</div>"
      ],
      "text/plain": [
       "    number       create_date      payment_date                        title  \\\n",
       "0  1062823  01.12.2019 10:50  01.12.2019 10:52      Курс обучения «Эксперт»   \n",
       "1  1062855  01.12.2019 20:53  01.12.2019 21:27      Курс обучения «Эксперт»   \n",
       "2  1062856  01.12.2019 21:43               NaN   Курс обучения «Специалист»   \n",
       "3  1062880   03.12.2019 0:18               NaN  Курс обучения «Консультант»   \n",
       "4  1062899  03.12.2019 21:43               NaN      Курс обучения «Эксперт»   \n",
       "\n",
       "     status  earnings                           city      payment_system  \n",
       "0  Завершен   29597.5                           Чита  Сбербанк эквайринг  \n",
       "1  Завершен   17450.3                      Краснодар        Яндекс.Касса  \n",
       "2   Отменен       0.0                            NaN                 NaN  \n",
       "3   Отменен       0.0  г.Москва и Московская область                 NaN  \n",
       "4   Отменен       0.0  г.Москва и Московская область                 NaN  "
      ]
     },
     "execution_count": 9,
     "metadata": {},
     "output_type": "execute_result"
    }
   ],
   "source": [
    "df.head()"
   ]
  },
  {
   "cell_type": "code",
   "execution_count": 10,
   "metadata": {},
   "outputs": [
    {
     "data": {
      "text/html": [
       "<div>\n",
       "<style scoped>\n",
       "    .dataframe tbody tr th:only-of-type {\n",
       "        vertical-align: middle;\n",
       "    }\n",
       "\n",
       "    .dataframe tbody tr th {\n",
       "        vertical-align: top;\n",
       "    }\n",
       "\n",
       "    .dataframe thead th {\n",
       "        text-align: right;\n",
       "    }\n",
       "</style>\n",
       "<table border=\"1\" class=\"dataframe\">\n",
       "  <thead>\n",
       "    <tr style=\"text-align: right;\">\n",
       "      <th></th>\n",
       "      <th>title</th>\n",
       "      <th>city</th>\n",
       "      <th>earnings</th>\n",
       "    </tr>\n",
       "  </thead>\n",
       "  <tbody>\n",
       "    <tr>\n",
       "      <th>0</th>\n",
       "      <td>Курс обучения «Эксперт»</td>\n",
       "      <td>Чита</td>\n",
       "      <td>29597.5</td>\n",
       "    </tr>\n",
       "    <tr>\n",
       "      <th>1</th>\n",
       "      <td>Курс обучения «Эксперт»</td>\n",
       "      <td>Краснодар</td>\n",
       "      <td>17450.3</td>\n",
       "    </tr>\n",
       "    <tr>\n",
       "      <th>2</th>\n",
       "      <td>Курс обучения «Специалист»</td>\n",
       "      <td>NaN</td>\n",
       "      <td>0.0</td>\n",
       "    </tr>\n",
       "    <tr>\n",
       "      <th>3</th>\n",
       "      <td>Курс обучения «Консультант»</td>\n",
       "      <td>г.Москва и Московская область</td>\n",
       "      <td>0.0</td>\n",
       "    </tr>\n",
       "    <tr>\n",
       "      <th>4</th>\n",
       "      <td>Курс обучения «Эксперт»</td>\n",
       "      <td>г.Москва и Московская область</td>\n",
       "      <td>0.0</td>\n",
       "    </tr>\n",
       "  </tbody>\n",
       "</table>\n",
       "</div>"
      ],
      "text/plain": [
       "                         title                           city  earnings\n",
       "0      Курс обучения «Эксперт»                           Чита   29597.5\n",
       "1      Курс обучения «Эксперт»                      Краснодар   17450.3\n",
       "2   Курс обучения «Специалист»                            NaN       0.0\n",
       "3  Курс обучения «Консультант»  г.Москва и Московская область       0.0\n",
       "4      Курс обучения «Эксперт»  г.Москва и Московская область       0.0"
      ]
     },
     "execution_count": 10,
     "metadata": {},
     "output_type": "execute_result"
    }
   ],
   "source": [
    "# Выбор отдельных столбцов из датафрейма\n",
    "df[['title', 'city', 'earnings']].head()"
   ]
  },
  {
   "cell_type": "code",
   "execution_count": 11,
   "metadata": {},
   "outputs": [
    {
     "data": {
      "text/plain": [
       "0      01.12.2019 10:52\n",
       "1      01.12.2019 21:27\n",
       "2                   NaN\n",
       "3                   NaN\n",
       "4                   NaN\n",
       "             ...       \n",
       "287    30.12.2019 12:49\n",
       "288                 NaN\n",
       "289     31.12.2019 2:22\n",
       "290    01.01.2020 14:29\n",
       "291    31.12.2019 17:32\n",
       "Name: payment_date, Length: 292, dtype: object"
      ]
     },
     "execution_count": 11,
     "metadata": {},
     "output_type": "execute_result"
    }
   ],
   "source": [
    "df.payment_date"
   ]
  },
  {
   "cell_type": "code",
   "execution_count": 12,
   "metadata": {},
   "outputs": [],
   "source": [
    "# Общая выручка\n",
    "total_earnings = df.earnings.sum()"
   ]
  },
  {
   "cell_type": "code",
   "execution_count": 13,
   "metadata": {},
   "outputs": [],
   "source": [
    "total_earnings = round(total_earnings, 2)"
   ]
  },
  {
   "cell_type": "code",
   "execution_count": 14,
   "metadata": {},
   "outputs": [
    {
     "data": {
      "text/plain": [
       "992103.59"
      ]
     },
     "execution_count": 14,
     "metadata": {},
     "output_type": "execute_result"
    }
   ],
   "source": [
    "total_earnings"
   ]
  },
  {
   "cell_type": "code",
   "execution_count": 15,
   "metadata": {
    "scrolled": true
   },
   "outputs": [
    {
     "data": {
      "text/html": [
       "<div>\n",
       "<style scoped>\n",
       "    .dataframe tbody tr th:only-of-type {\n",
       "        vertical-align: middle;\n",
       "    }\n",
       "\n",
       "    .dataframe tbody tr th {\n",
       "        vertical-align: top;\n",
       "    }\n",
       "\n",
       "    .dataframe thead th {\n",
       "        text-align: right;\n",
       "    }\n",
       "</style>\n",
       "<table border=\"1\" class=\"dataframe\">\n",
       "  <thead>\n",
       "    <tr style=\"text-align: right;\">\n",
       "      <th></th>\n",
       "      <th>title</th>\n",
       "      <th>city</th>\n",
       "      <th>earnings</th>\n",
       "    </tr>\n",
       "  </thead>\n",
       "  <tbody>\n",
       "    <tr>\n",
       "      <th>51</th>\n",
       "      <td>Курс обучения «Эксперт»</td>\n",
       "      <td>г.Санкт-Петербург и Ленинградская область</td>\n",
       "      <td>59195.00</td>\n",
       "    </tr>\n",
       "    <tr>\n",
       "      <th>156</th>\n",
       "      <td>Подписка «ОНЛАЙН ДИЕТОЛОГ» с ежемесячным автос...</td>\n",
       "      <td>г.Москва и Московская область</td>\n",
       "      <td>46967.04</td>\n",
       "    </tr>\n",
       "    <tr>\n",
       "      <th>39</th>\n",
       "      <td>Курс обучения «Эксперт»</td>\n",
       "      <td>Балхаш</td>\n",
       "      <td>42750.00</td>\n",
       "    </tr>\n",
       "    <tr>\n",
       "      <th>95</th>\n",
       "      <td>Подписка «ОНЛАЙН ДИЕТОЛОГ» с ежемесячным автос...</td>\n",
       "      <td>Краснодарский край</td>\n",
       "      <td>38169.78</td>\n",
       "    </tr>\n",
       "    <tr>\n",
       "      <th>30</th>\n",
       "      <td>Курс обучения «Специалист»</td>\n",
       "      <td>Краснодар</td>\n",
       "      <td>29695.70</td>\n",
       "    </tr>\n",
       "    <tr>\n",
       "      <th>...</th>\n",
       "      <td>...</td>\n",
       "      <td>...</td>\n",
       "      <td>...</td>\n",
       "    </tr>\n",
       "    <tr>\n",
       "      <th>63</th>\n",
       "      <td>Курс от Школы Диетологов. Повышение квалификац...</td>\n",
       "      <td>Кемерово</td>\n",
       "      <td>0.00</td>\n",
       "    </tr>\n",
       "    <tr>\n",
       "      <th>61</th>\n",
       "      <td>Курс от Школы Диетологов. Повышение квалификац...</td>\n",
       "      <td>Екатеринбург</td>\n",
       "      <td>0.00</td>\n",
       "    </tr>\n",
       "    <tr>\n",
       "      <th>55</th>\n",
       "      <td>Курс от Школы Диетологов. Бизнес</td>\n",
       "      <td>Крым Советский</td>\n",
       "      <td>0.00</td>\n",
       "    </tr>\n",
       "    <tr>\n",
       "      <th>54</th>\n",
       "      <td>Курс от Школы Диетологов. Бизнес</td>\n",
       "      <td>Киев</td>\n",
       "      <td>0.00</td>\n",
       "    </tr>\n",
       "    <tr>\n",
       "      <th>158</th>\n",
       "      <td>Подписка «ОНЛАЙН ДИЕТОЛОГ» с ежемесячным автос...</td>\n",
       "      <td>нижний Новгород</td>\n",
       "      <td>0.00</td>\n",
       "    </tr>\n",
       "  </tbody>\n",
       "</table>\n",
       "<p>159 rows × 3 columns</p>\n",
       "</div>"
      ],
      "text/plain": [
       "                                                 title  \\\n",
       "51                             Курс обучения «Эксперт»   \n",
       "156  Подписка «ОНЛАЙН ДИЕТОЛОГ» с ежемесячным автос...   \n",
       "39                             Курс обучения «Эксперт»   \n",
       "95   Подписка «ОНЛАЙН ДИЕТОЛОГ» с ежемесячным автос...   \n",
       "30                          Курс обучения «Специалист»   \n",
       "..                                                 ...   \n",
       "63   Курс от Школы Диетологов. Повышение квалификац...   \n",
       "61   Курс от Школы Диетологов. Повышение квалификац...   \n",
       "55                    Курс от Школы Диетологов. Бизнес   \n",
       "54                    Курс от Школы Диетологов. Бизнес   \n",
       "158  Подписка «ОНЛАЙН ДИЕТОЛОГ» с ежемесячным автос...   \n",
       "\n",
       "                                          city  earnings  \n",
       "51   г.Санкт-Петербург и Ленинградская область  59195.00  \n",
       "156              г.Москва и Московская область  46967.04  \n",
       "39                                      Балхаш  42750.00  \n",
       "95                          Краснодарский край  38169.78  \n",
       "30                                   Краснодар  29695.70  \n",
       "..                                         ...       ...  \n",
       "63                                    Кемерово      0.00  \n",
       "61                               Екатеринбург       0.00  \n",
       "55                              Крым Советский      0.00  \n",
       "54                                        Киев      0.00  \n",
       "158                            нижний Новгород      0.00  \n",
       "\n",
       "[159 rows x 3 columns]"
      ]
     },
     "execution_count": 15,
     "metadata": {},
     "output_type": "execute_result"
    }
   ],
   "source": [
    "# Агрегированные данные (выручка в разбивке по курсу и городу)\n",
    "earnings_by_course_and_city = df \\\n",
    "    .groupby(['title', 'city'], as_index=False) \\\n",
    "    .aggregate({'earnings':'sum'}) \\\n",
    "    .sort_values('earnings', ascending=False)\n",
    "earnings_by_course_and_city"
   ]
  },
  {
   "cell_type": "code",
   "execution_count": 16,
   "metadata": {},
   "outputs": [],
   "source": [
    "# Сохраняем полученный датафрейм в csv-файл\n",
    "earnings_by_course_and_city.to_csv('earnings_by_course_and_city.csv', index=False)"
   ]
  },
  {
   "cell_type": "code",
   "execution_count": 17,
   "metadata": {},
   "outputs": [
    {
     "data": {
      "text/html": [
       "<div>\n",
       "<style scoped>\n",
       "    .dataframe tbody tr th:only-of-type {\n",
       "        vertical-align: middle;\n",
       "    }\n",
       "\n",
       "    .dataframe tbody tr th {\n",
       "        vertical-align: top;\n",
       "    }\n",
       "\n",
       "    .dataframe thead th {\n",
       "        text-align: right;\n",
       "    }\n",
       "</style>\n",
       "<table border=\"1\" class=\"dataframe\">\n",
       "  <thead>\n",
       "    <tr style=\"text-align: right;\">\n",
       "      <th></th>\n",
       "      <th>title</th>\n",
       "      <th>earnings</th>\n",
       "      <th>completed_orders</th>\n",
       "    </tr>\n",
       "  </thead>\n",
       "  <tbody>\n",
       "    <tr>\n",
       "      <th>5</th>\n",
       "      <td>Подписка «ОНЛАЙН ДИЕТОЛОГ» с ежемесячным автос...</td>\n",
       "      <td>366947.20</td>\n",
       "      <td>125</td>\n",
       "    </tr>\n",
       "    <tr>\n",
       "      <th>0</th>\n",
       "      <td>Курс обучения «Консультант»</td>\n",
       "      <td>208163.49</td>\n",
       "      <td>31</td>\n",
       "    </tr>\n",
       "    <tr>\n",
       "      <th>1</th>\n",
       "      <td>Курс обучения «Специалист»</td>\n",
       "      <td>160862.64</td>\n",
       "      <td>7</td>\n",
       "    </tr>\n",
       "    <tr>\n",
       "      <th>2</th>\n",
       "      <td>Курс обучения «Эксперт»</td>\n",
       "      <td>148992.80</td>\n",
       "      <td>5</td>\n",
       "    </tr>\n",
       "    <tr>\n",
       "      <th>4</th>\n",
       "      <td>Курс от Школы Диетологов. Повышение квалификац...</td>\n",
       "      <td>88384.92</td>\n",
       "      <td>9</td>\n",
       "    </tr>\n",
       "    <tr>\n",
       "      <th>3</th>\n",
       "      <td>Курс от Школы Диетологов. Бизнес</td>\n",
       "      <td>18752.54</td>\n",
       "      <td>3</td>\n",
       "    </tr>\n",
       "  </tbody>\n",
       "</table>\n",
       "</div>"
      ],
      "text/plain": [
       "                                               title   earnings  \\\n",
       "5  Подписка «ОНЛАЙН ДИЕТОЛОГ» с ежемесячным автос...  366947.20   \n",
       "0                        Курс обучения «Консультант»  208163.49   \n",
       "1                         Курс обучения «Специалист»  160862.64   \n",
       "2                            Курс обучения «Эксперт»  148992.80   \n",
       "4  Курс от Школы Диетологов. Повышение квалификац...   88384.92   \n",
       "3                   Курс от Школы Диетологов. Бизнес   18752.54   \n",
       "\n",
       "   completed_orders  \n",
       "5               125  \n",
       "0                31  \n",
       "1                 7  \n",
       "2                 5  \n",
       "4                 9  \n",
       "3                 3  "
      ]
     },
     "execution_count": 17,
     "metadata": {},
     "output_type": "execute_result"
    }
   ],
   "source": [
    "# Фильтрация данных\n",
    "# Выручка по курсу для завершенных курсов\n",
    "earnings_by_course_completed_orders = df \\\n",
    "    .query(\"status == 'Завершен'\") \\\n",
    "    .groupby('title', as_index=False) \\\n",
    "    .aggregate({'earnings':'sum', 'number':'count'}) \\\n",
    "    .sort_values('earnings', ascending=False) \\\n",
    "    .rename(columns={'number':'completed_orders'})\n",
    "earnings_by_course_completed_orders"
   ]
  },
  {
   "cell_type": "code",
   "execution_count": 18,
   "metadata": {
    "scrolled": false
   },
   "outputs": [
    {
     "data": {
      "text/plain": [
       "array(['Курс обучения «Эксперт»', 'Курс обучения «Специалист»',\n",
       "       'Курс обучения «Консультант»', 'Курс от Школы Диетологов. Бизнес',\n",
       "       'Курс от Школы Диетологов. Повышение квалификации. ',\n",
       "       'Подписка «ОНЛАЙН ДИЕТОЛОГ» с ежемесячным автосписанием'],\n",
       "      dtype=object)"
      ]
     },
     "execution_count": 18,
     "metadata": {},
     "output_type": "execute_result"
    }
   ],
   "source": [
    "# Уникальные названия в столбце title\n",
    "df.title.unique()"
   ]
  },
  {
   "cell_type": "code",
   "execution_count": 19,
   "metadata": {
    "scrolled": true
   },
   "outputs": [
    {
     "data": {
      "text/plain": [
       "6"
      ]
     },
     "execution_count": 19,
     "metadata": {},
     "output_type": "execute_result"
    }
   ],
   "source": [
    "# Количество различных значений (названий) в столбце title\n",
    "df.title.nunique()"
   ]
  },
  {
   "cell_type": "code",
   "execution_count": 20,
   "metadata": {},
   "outputs": [
    {
     "data": {
      "text/html": [
       "<div>\n",
       "<style scoped>\n",
       "    .dataframe tbody tr th:only-of-type {\n",
       "        vertical-align: middle;\n",
       "    }\n",
       "\n",
       "    .dataframe tbody tr th {\n",
       "        vertical-align: top;\n",
       "    }\n",
       "\n",
       "    .dataframe thead th {\n",
       "        text-align: right;\n",
       "    }\n",
       "</style>\n",
       "<table border=\"1\" class=\"dataframe\">\n",
       "  <thead>\n",
       "    <tr style=\"text-align: right;\">\n",
       "      <th></th>\n",
       "      <th>title</th>\n",
       "      <th>earnings</th>\n",
       "      <th>completed_orders</th>\n",
       "    </tr>\n",
       "  </thead>\n",
       "  <tbody>\n",
       "    <tr>\n",
       "      <th>5</th>\n",
       "      <td>Подписка «ОНЛАЙН ДИЕТОЛОГ» с ежемесячным автос...</td>\n",
       "      <td>366947.20</td>\n",
       "      <td>125</td>\n",
       "    </tr>\n",
       "    <tr>\n",
       "      <th>0</th>\n",
       "      <td>Курс обучения «Консультант»</td>\n",
       "      <td>208163.49</td>\n",
       "      <td>31</td>\n",
       "    </tr>\n",
       "    <tr>\n",
       "      <th>1</th>\n",
       "      <td>Курс обучения «Специалист»</td>\n",
       "      <td>160862.64</td>\n",
       "      <td>7</td>\n",
       "    </tr>\n",
       "    <tr>\n",
       "      <th>2</th>\n",
       "      <td>Курс обучения «Эксперт»</td>\n",
       "      <td>148992.80</td>\n",
       "      <td>5</td>\n",
       "    </tr>\n",
       "    <tr>\n",
       "      <th>4</th>\n",
       "      <td>Курс от Школы Диетологов. Повышение квалификац...</td>\n",
       "      <td>88384.92</td>\n",
       "      <td>9</td>\n",
       "    </tr>\n",
       "    <tr>\n",
       "      <th>3</th>\n",
       "      <td>Курс от Школы Диетологов. Бизнес</td>\n",
       "      <td>18752.54</td>\n",
       "      <td>3</td>\n",
       "    </tr>\n",
       "  </tbody>\n",
       "</table>\n",
       "</div>"
      ],
      "text/plain": [
       "                                               title   earnings  \\\n",
       "5  Подписка «ОНЛАЙН ДИЕТОЛОГ» с ежемесячным автос...  366947.20   \n",
       "0                        Курс обучения «Консультант»  208163.49   \n",
       "1                         Курс обучения «Специалист»  160862.64   \n",
       "2                            Курс обучения «Эксперт»  148992.80   \n",
       "4  Курс от Школы Диетологов. Повышение квалификац...   88384.92   \n",
       "3                   Курс от Школы Диетологов. Бизнес   18752.54   \n",
       "\n",
       "   completed_orders  \n",
       "5               125  \n",
       "0                31  \n",
       "1                 7  \n",
       "2                 5  \n",
       "4                 9  \n",
       "3                 3  "
      ]
     },
     "execution_count": 20,
     "metadata": {},
     "output_type": "execute_result"
    }
   ],
   "source": [
    "earnings_by_course_completed_orders"
   ]
  },
  {
   "cell_type": "code",
   "execution_count": 21,
   "metadata": {},
   "outputs": [
    {
     "data": {
      "text/plain": [
       "992103.59"
      ]
     },
     "execution_count": 21,
     "metadata": {},
     "output_type": "execute_result"
    }
   ],
   "source": [
    "# Создадим новую переменную для суммарной выручки по завершенным курсам\n",
    "sum_earnings = round(earnings_by_course_completed_orders.earnings.sum(), 2)\n",
    "sum_earnings"
   ]
  },
  {
   "cell_type": "code",
   "execution_count": 22,
   "metadata": {},
   "outputs": [
    {
     "data": {
      "text/plain": [
       "'28/02/2022'"
      ]
     },
     "execution_count": 22,
     "metadata": {},
     "output_type": "execute_result"
    }
   ],
   "source": [
    "# Как получить сегодняшнюю дату\n",
    "today = date.today().strftime(\"%d/%m/%Y\") # перевод даты в строку\n",
    "today"
   ]
  },
  {
   "cell_type": "code",
   "execution_count": 23,
   "metadata": {},
   "outputs": [
    {
     "data": {
      "text/plain": [
       "'earnings_by_course_completed_orders_28/02/2022.csv'"
      ]
     },
     "execution_count": 23,
     "metadata": {},
     "output_type": "execute_result"
    }
   ],
   "source": [
    "# Можно добавить дату в название файла\n",
    "file_name = 'earnings_by_course_completed_orders_{}.csv'\n",
    "file_name = file_name.format(today)\n",
    "file_name"
   ]
  },
  {
   "cell_type": "code",
   "execution_count": 25,
   "metadata": {},
   "outputs": [
    {
     "name": "stdout",
     "output_type": "stream",
     "text": [
      "OK! File earnings_by_course_completed_orders_28/02/2022.csv is written.\n"
     ]
    }
   ],
   "source": [
    "# Проверим, корректно ли рассчитана суммарная выручка по всей таблице и по отфильрованной и агрегированной\n",
    "if sum_earnings == total_earnings:\n",
    "    print('OK! File {} is written.'.format(file_name))\n",
    "else:\n",
    "    print('ERROR!!!')"
   ]
  },
  {
   "cell_type": "code",
   "execution_count": null,
   "metadata": {},
   "outputs": [],
   "source": []
  }
 ],
 "metadata": {
  "kernelspec": {
   "display_name": "Python 3",
   "language": "python",
   "name": "python3"
  },
  "language_info": {
   "codemirror_mode": {
    "name": "ipython",
    "version": 3
   },
   "file_extension": ".py",
   "mimetype": "text/x-python",
   "name": "python",
   "nbconvert_exporter": "python",
   "pygments_lexer": "ipython3",
   "version": "3.7.6"
  }
 },
 "nbformat": 4,
 "nbformat_minor": 4
}
